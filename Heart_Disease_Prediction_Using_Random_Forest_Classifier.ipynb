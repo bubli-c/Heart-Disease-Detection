{
  "cells": [
    {
      "cell_type": "markdown",
      "metadata": {
        "id": "view-in-github",
        "colab_type": "text"
      },
      "source": [
        "<a href=\"https://colab.research.google.com/github/bubli-c/Heart-Disease-Detection/blob/main/Heart_Disease_Prediction_Using_Random_Forest_Classifier.ipynb\" target=\"_parent\"><img src=\"https://colab.research.google.com/assets/colab-badge.svg\" alt=\"Open In Colab\"/></a>"
      ]
    },
    {
      "cell_type": "markdown",
      "source": [
        "### **Importing Necessary Libraries**"
      ],
      "metadata": {
        "id": "KG_HjxP-5xQA"
      },
      "id": "KG_HjxP-5xQA"
    },
    {
      "cell_type": "code",
      "execution_count": null,
      "id": "6ec390c2",
      "metadata": {
        "_cell_guid": "b1076dfc-b9ad-4769-8c92-a6c4dae69d19",
        "_uuid": "8f2839f25d086af736a60e9eeb907d3b93b6e0e5",
        "execution": {
          "iopub.execute_input": "2024-06-25T14:35:32.823037Z",
          "iopub.status.busy": "2024-06-25T14:35:32.822620Z",
          "iopub.status.idle": "2024-06-25T14:35:33.681190Z",
          "shell.execute_reply": "2024-06-25T14:35:33.680129Z"
        },
        "papermill": {
          "duration": 0.871566,
          "end_time": "2024-06-25T14:35:33.683773",
          "exception": false,
          "start_time": "2024-06-25T14:35:32.812207",
          "status": "completed"
        },
        "tags": [],
        "id": "6ec390c2"
      },
      "outputs": [],
      "source": [
        "import numpy as np\n",
        "import pandas as pd\n",
        "from sklearn.model_selection import train_test_split\n",
        "from sklearn.ensemble import RandomForestClassifier\n",
        "from sklearn.metrics import accuracy_score"
      ]
    },
    {
      "cell_type": "markdown",
      "id": "cf5ebdb4",
      "metadata": {
        "papermill": {
          "duration": 0.007571,
          "end_time": "2024-06-25T14:35:33.699272",
          "exception": false,
          "start_time": "2024-06-25T14:35:33.691701",
          "status": "completed"
        },
        "tags": [],
        "id": "cf5ebdb4"
      },
      "source": [
        "### **Reading the DataSet**"
      ]
    },
    {
      "cell_type": "code",
      "execution_count": null,
      "id": "3dee66d0",
      "metadata": {
        "execution": {
          "iopub.execute_input": "2024-06-25T14:35:33.716583Z",
          "iopub.status.busy": "2024-06-25T14:35:33.716082Z",
          "iopub.status.idle": "2024-06-25T14:35:33.764468Z",
          "shell.execute_reply": "2024-06-25T14:35:33.763296Z"
        },
        "papermill": {
          "duration": 0.059849,
          "end_time": "2024-06-25T14:35:33.766857",
          "exception": false,
          "start_time": "2024-06-25T14:35:33.707008",
          "status": "completed"
        },
        "tags": [],
        "id": "3dee66d0"
      },
      "outputs": [],
      "source": [
        "df=pd.read_csv(\"Heart_Disease_Prediction.csv\")"
      ]
    },
    {
      "cell_type": "markdown",
      "id": "716879a1",
      "metadata": {
        "papermill": {
          "duration": 0.008127,
          "end_time": "2024-06-25T14:35:33.783335",
          "exception": false,
          "start_time": "2024-06-25T14:35:33.775208",
          "status": "completed"
        },
        "tags": [],
        "id": "716879a1"
      },
      "source": [
        "### **Separating the features and label from the dataframe**"
      ]
    },
    {
      "cell_type": "code",
      "execution_count": null,
      "id": "d5cbcd87",
      "metadata": {
        "execution": {
          "iopub.execute_input": "2024-06-25T14:35:33.801431Z",
          "iopub.status.busy": "2024-06-25T14:35:33.801049Z",
          "iopub.status.idle": "2024-06-25T14:35:33.809382Z",
          "shell.execute_reply": "2024-06-25T14:35:33.808341Z"
        },
        "papermill": {
          "duration": 0.020151,
          "end_time": "2024-06-25T14:35:33.811617",
          "exception": false,
          "start_time": "2024-06-25T14:35:33.791466",
          "status": "completed"
        },
        "tags": [],
        "id": "d5cbcd87"
      },
      "outputs": [],
      "source": [
        "X = df.drop('Heart Disease', axis=1)  # Features\n",
        "Y = df['Heart Disease']               # Label"
      ]
    },
    {
      "cell_type": "markdown",
      "id": "762e2582",
      "metadata": {
        "papermill": {
          "duration": 0.007933,
          "end_time": "2024-06-25T14:35:33.828014",
          "exception": false,
          "start_time": "2024-06-25T14:35:33.820081",
          "status": "completed"
        },
        "tags": [],
        "id": "762e2582"
      },
      "source": [
        "### **Displaying the information of the DataFrame**"
      ]
    },
    {
      "cell_type": "code",
      "execution_count": null,
      "id": "1069e55b",
      "metadata": {
        "execution": {
          "iopub.execute_input": "2024-06-25T14:35:33.845701Z",
          "iopub.status.busy": "2024-06-25T14:35:33.845330Z",
          "iopub.status.idle": "2024-06-25T14:35:33.866848Z",
          "shell.execute_reply": "2024-06-25T14:35:33.865425Z"
        },
        "papermill": {
          "duration": 0.033085,
          "end_time": "2024-06-25T14:35:33.869148",
          "exception": false,
          "start_time": "2024-06-25T14:35:33.836063",
          "status": "completed"
        },
        "tags": [],
        "id": "1069e55b"
      },
      "outputs": [],
      "source": [
        "df.info()"
      ]
    },
    {
      "cell_type": "markdown",
      "source": [
        "## **Pre-processing the data**"
      ],
      "metadata": {
        "id": "6T0G_iWkDgoa"
      },
      "id": "6T0G_iWkDgoa"
    },
    {
      "cell_type": "markdown",
      "id": "e43a6fec",
      "metadata": {
        "papermill": {
          "duration": 0.008309,
          "end_time": "2024-06-25T14:35:33.902747",
          "exception": false,
          "start_time": "2024-06-25T14:35:33.894438",
          "status": "completed"
        },
        "tags": [],
        "id": "e43a6fec"
      },
      "source": [
        "### **Replacing 'Presence' with 1 and 'Absence' with 0 in the 'Heart Disease' column**"
      ]
    },
    {
      "cell_type": "code",
      "execution_count": null,
      "id": "cff9e1e0",
      "metadata": {
        "execution": {
          "iopub.execute_input": "2024-06-25T14:35:33.922119Z",
          "iopub.status.busy": "2024-06-25T14:35:33.921372Z",
          "iopub.status.idle": "2024-06-25T14:35:33.942610Z",
          "shell.execute_reply": "2024-06-25T14:35:33.941557Z"
        },
        "papermill": {
          "duration": 0.033923,
          "end_time": "2024-06-25T14:35:33.945295",
          "exception": false,
          "start_time": "2024-06-25T14:35:33.911372",
          "status": "completed"
        },
        "tags": [],
        "id": "cff9e1e0"
      },
      "outputs": [],
      "source": [
        "df['Heart Disease'] = df['Heart Disease'].replace({'Presence': 1, 'Absence': 0})"
      ]
    },
    {
      "cell_type": "markdown",
      "id": "7991faed",
      "metadata": {
        "papermill": {
          "duration": 0.009149,
          "end_time": "2024-06-25T14:35:34.025497",
          "exception": false,
          "start_time": "2024-06-25T14:35:34.016348",
          "status": "completed"
        },
        "tags": [],
        "id": "7991faed"
      },
      "source": [
        "### **Splitting the data into training and testing sets**\n",
        "\n",
        "### **10% of the data is used for testing, stratified by the target variable 'Y'**"
      ]
    },
    {
      "cell_type": "code",
      "execution_count": null,
      "id": "7ed20c39",
      "metadata": {
        "execution": {
          "iopub.execute_input": "2024-06-25T14:35:34.046122Z",
          "iopub.status.busy": "2024-06-25T14:35:34.045337Z",
          "iopub.status.idle": "2024-06-25T14:35:35.229294Z",
          "shell.execute_reply": "2024-06-25T14:35:35.228187Z"
        },
        "papermill": {
          "duration": 1.197083,
          "end_time": "2024-06-25T14:35:35.232035",
          "exception": false,
          "start_time": "2024-06-25T14:35:34.034952",
          "status": "completed"
        },
        "tags": [],
        "id": "7ed20c39"
      },
      "outputs": [],
      "source": [
        "X_train,X_test,Y_train,Y_test=train_test_split(X,Y,test_size=0.1,stratify=Y)"
      ]
    },
    {
      "cell_type": "markdown",
      "id": "63feae6f",
      "metadata": {
        "papermill": {
          "duration": 0.009249,
          "end_time": "2024-06-25T14:35:35.251104",
          "exception": false,
          "start_time": "2024-06-25T14:35:35.241855",
          "status": "completed"
        },
        "tags": [],
        "id": "63feae6f"
      },
      "source": [
        "### **Printing the shapes of the training and testing sets**"
      ]
    },
    {
      "cell_type": "code",
      "execution_count": null,
      "id": "c3f9857b",
      "metadata": {
        "execution": {
          "iopub.execute_input": "2024-06-25T14:35:35.272387Z",
          "iopub.status.busy": "2024-06-25T14:35:35.271580Z",
          "iopub.status.idle": "2024-06-25T14:35:35.277397Z",
          "shell.execute_reply": "2024-06-25T14:35:35.276409Z"
        },
        "papermill": {
          "duration": 0.018661,
          "end_time": "2024-06-25T14:35:35.279578",
          "exception": false,
          "start_time": "2024-06-25T14:35:35.260917",
          "status": "completed"
        },
        "tags": [],
        "id": "c3f9857b"
      },
      "outputs": [],
      "source": [
        "print(X_train.shape,X_test.shape,Y_train.shape,Y_test.shape)"
      ]
    },
    {
      "cell_type": "markdown",
      "source": [
        "## **Preparing the model**"
      ],
      "metadata": {
        "id": "ItwsyIptDLcN"
      },
      "id": "ItwsyIptDLcN"
    },
    {
      "cell_type": "markdown",
      "id": "d3d62571",
      "metadata": {
        "papermill": {
          "duration": 0.009165,
          "end_time": "2024-06-25T14:35:35.429214",
          "exception": false,
          "start_time": "2024-06-25T14:35:35.420049",
          "status": "completed"
        },
        "tags": [],
        "id": "d3d62571"
      },
      "source": [
        "### **Creating an instance of the RandomForestClassifier class**"
      ]
    },
    {
      "cell_type": "code",
      "execution_count": null,
      "id": "7c49f4ea",
      "metadata": {
        "execution": {
          "iopub.execute_input": "2024-06-25T14:35:35.450296Z",
          "iopub.status.busy": "2024-06-25T14:35:35.449502Z",
          "iopub.status.idle": "2024-06-25T14:35:35.454260Z",
          "shell.execute_reply": "2024-06-25T14:35:35.453229Z"
        },
        "papermill": {
          "duration": 0.017723,
          "end_time": "2024-06-25T14:35:35.456454",
          "exception": false,
          "start_time": "2024-06-25T14:35:35.438731",
          "status": "completed"
        },
        "tags": [],
        "id": "7c49f4ea"
      },
      "outputs": [],
      "source": [
        "c = RandomForestClassifier()"
      ]
    },
    {
      "cell_type": "markdown",
      "id": "06a99fa7",
      "metadata": {
        "papermill": {
          "duration": 0.009374,
          "end_time": "2024-06-25T14:35:35.475145",
          "exception": false,
          "start_time": "2024-06-25T14:35:35.465771",
          "status": "completed"
        },
        "tags": [],
        "id": "06a99fa7"
      },
      "source": [
        "### **Fitting the training data to the Random Forest model**"
      ]
    },
    {
      "cell_type": "code",
      "execution_count": null,
      "id": "18911c93",
      "metadata": {
        "execution": {
          "iopub.execute_input": "2024-06-25T14:35:35.496665Z",
          "iopub.status.busy": "2024-06-25T14:35:35.495732Z",
          "iopub.status.idle": "2024-06-25T14:35:35.538171Z",
          "shell.execute_reply": "2024-06-25T14:35:35.535058Z"
        },
        "papermill": {
          "duration": 0.055465,
          "end_time": "2024-06-25T14:35:35.540484",
          "exception": false,
          "start_time": "2024-06-25T14:35:35.485019",
          "status": "completed"
        },
        "tags": [],
        "id": "18911c93"
      },
      "outputs": [],
      "source": [
        "c.fit(X_train,Y_train)"
      ]
    },
    {
      "cell_type": "markdown",
      "source": [
        "## **Evaluating the model**"
      ],
      "metadata": {
        "id": "2i6ZxOIHCfwj"
      },
      "id": "2i6ZxOIHCfwj"
    },
    {
      "cell_type": "markdown",
      "id": "ac9b9ee2",
      "metadata": {
        "papermill": {
          "duration": 0.009599,
          "end_time": "2024-06-25T14:35:35.560011",
          "exception": false,
          "start_time": "2024-06-25T14:35:35.550412",
          "status": "completed"
        },
        "tags": [],
        "id": "ac9b9ee2"
      },
      "source": [
        "### **Measuring the accuracy of the model over the training data**"
      ]
    },
    {
      "cell_type": "code",
      "execution_count": null,
      "id": "e59fb79d",
      "metadata": {
        "execution": {
          "iopub.execute_input": "2024-06-25T14:35:35.609671Z",
          "iopub.status.busy": "2024-06-25T14:35:35.608740Z",
          "iopub.status.idle": "2024-06-25T14:35:35.619711Z",
          "shell.execute_reply": "2024-06-25T14:35:35.618685Z"
        },
        "papermill": {
          "duration": 0.024333,
          "end_time": "2024-06-25T14:35:35.622038",
          "exception": false,
          "start_time": "2024-06-25T14:35:35.597705",
          "status": "completed"
        },
        "tags": [],
        "id": "e59fb79d"
      },
      "outputs": [],
      "source": [
        "prediction=c.predict(X_train)\n",
        "accuracy=accuracy_score(Y_train,prediction)\n",
        "accuracy"
      ]
    },
    {
      "cell_type": "markdown",
      "id": "d3f43049",
      "metadata": {
        "papermill": {
          "duration": 0.009729,
          "end_time": "2024-06-25T14:35:35.642048",
          "exception": false,
          "start_time": "2024-06-25T14:35:35.632319",
          "status": "completed"
        },
        "tags": [],
        "id": "d3f43049"
      },
      "source": [
        "### **Measuring the accuracy of the model over the testing data**"
      ]
    },
    {
      "cell_type": "code",
      "execution_count": null,
      "id": "49150a21",
      "metadata": {
        "execution": {
          "iopub.execute_input": "2024-06-25T14:35:35.663879Z",
          "iopub.status.busy": "2024-06-25T14:35:35.662930Z",
          "iopub.status.idle": "2024-06-25T14:35:35.673114Z",
          "shell.execute_reply": "2024-06-25T14:35:35.672118Z"
        },
        "papermill": {
          "duration": 0.023459,
          "end_time": "2024-06-25T14:35:35.675455",
          "exception": false,
          "start_time": "2024-06-25T14:35:35.651996",
          "status": "completed"
        },
        "tags": [],
        "id": "49150a21"
      },
      "outputs": [],
      "source": [
        "prediction=c.predict(X_test)\n",
        "accuracy=accuracy_score(Y_test,prediction)\n",
        "accuracy"
      ]
    },
    {
      "cell_type": "markdown",
      "source": [
        "## **Saving the Model**"
      ],
      "metadata": {
        "id": "IBK2tIaRC1Zi"
      },
      "id": "IBK2tIaRC1Zi"
    },
    {
      "cell_type": "code",
      "source": [
        "import joblib\n",
        "\n",
        "joblib.dump(c, \"Heart Disease Prediction Model.pkl\")"
      ],
      "metadata": {
        "id": "E9NSkg3zC0qU"
      },
      "id": "E9NSkg3zC0qU",
      "execution_count": null,
      "outputs": []
    },
    {
      "cell_type": "markdown",
      "source": [
        "## **Making Predictions**"
      ],
      "metadata": {
        "id": "ncANcGOlCqg5"
      },
      "id": "ncANcGOlCqg5"
    },
    {
      "cell_type": "code",
      "source": [
        "age = int(input(\"Enter your age: \"))\n",
        "sex = 1 if(input(\"Enter male or female: \").lower() == 'male') else 0\n",
        "pain = int(input(\"Enter your chest pain type: \"))\n",
        "bp = int(input(\"Enter your blood pressure: \"))\n",
        "cholestrol = int(input(\"Enter your cholestrol level: \"))\n",
        "fbs = 1 if(input(\"Is your FBS over 120. Type Y or N: \").upper() == 'Y') else 0\n",
        "ekg = int(input(\"Enter your EKG result: \"))\n",
        "max_hr = int(input(\"Enter your maximum heart rate: \"))\n",
        "angina = 1 if(input(\"Do you have chest pain during exercise. Type Y or N: \").lower() == 'y') else 0\n",
        "st_dep = eval(input(\"Enter your ST depression level\"))\n",
        "st_slope = int(input(\"Enter the ST slope: \"))\n",
        "fluro = int(input(\"Enter number of vessel fluro: \"))\n",
        "thallium = int(input(\"Enter thallium level: \"))\n",
        "\n",
        "diction = {\n",
        "    'Age' : {0 : age},\n",
        "    'Sex' : {0 : sex},\n",
        "    'Chest pain type' : {0 : pain},\n",
        "    'BP' : {0 : bp},\n",
        "    'Cholesterol' : {0 : cholestrol},\n",
        "    'FBS over 120' : {0 : fbs},\n",
        "    'EKG results' : {0 : ekg},\n",
        "    'Max HR' : {0 : max_hr},\n",
        "    'Exercise angina' : {0 : angina},\n",
        "    'ST depression' :{0 : st_dep},\n",
        "    'Slope of ST' : {0 : st_slope},\n",
        "    'Number of vessels fluro' : {0 : fluro},\n",
        "    'Thallium' : {0 : thallium}\n",
        "}\n",
        "\n",
        "A = pd.DataFrame(diction)"
      ],
      "metadata": {
        "id": "v94tHQG-tV2f"
      },
      "id": "v94tHQG-tV2f",
      "execution_count": null,
      "outputs": []
    },
    {
      "cell_type": "code",
      "source": [
        "prediction = c.predict(A)\n",
        "prediction"
      ],
      "metadata": {
        "id": "j7dKKqfE02og"
      },
      "id": "j7dKKqfE02og",
      "execution_count": null,
      "outputs": []
    }
  ],
  "metadata": {
    "kaggle": {
      "accelerator": "none",
      "dataSources": [
        {
          "datasetId": 841679,
          "sourceId": 1436563,
          "sourceType": "datasetVersion"
        }
      ],
      "dockerImageVersionId": 30732,
      "isGpuEnabled": false,
      "isInternetEnabled": false,
      "language": "python",
      "sourceType": "notebook"
    },
    "kernelspec": {
      "display_name": "Python 3",
      "language": "python",
      "name": "python3"
    },
    "language_info": {
      "codemirror_mode": {
        "name": "ipython",
        "version": 3
      },
      "file_extension": ".py",
      "mimetype": "text/x-python",
      "name": "python",
      "nbconvert_exporter": "python",
      "pygments_lexer": "ipython3",
      "version": "3.10.13"
    },
    "papermill": {
      "default_parameters": {},
      "duration": 6.341044,
      "end_time": "2024-06-25T14:35:36.306556",
      "environment_variables": {},
      "exception": null,
      "input_path": "__notebook__.ipynb",
      "output_path": "__notebook__.ipynb",
      "parameters": {},
      "start_time": "2024-06-25T14:35:29.965512",
      "version": "2.5.0"
    },
    "colab": {
      "provenance": [],
      "include_colab_link": true
    }
  },
  "nbformat": 4,
  "nbformat_minor": 5
}